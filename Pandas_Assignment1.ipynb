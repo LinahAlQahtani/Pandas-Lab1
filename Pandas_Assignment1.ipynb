{
 "cells": [
  {
   "cell_type": "code",
   "execution_count": 1,
   "id": "d3aaed2d",
   "metadata": {},
   "outputs": [],
   "source": [
    "import pandas as pd"
   ]
  },
  {
   "cell_type": "markdown",
   "id": "c8502047",
   "metadata": {},
   "source": [
    "## Q1: Create a Series with indexes = 1, 2, 3 and has three names."
   ]
  },
  {
   "cell_type": "code",
   "execution_count": 2,
   "id": "dc122631",
   "metadata": {},
   "outputs": [
    {
     "data": {
      "text/plain": [
       "1    linah\n",
       "2    malak\n",
       "3    norah\n",
       "dtype: object"
      ]
     },
     "execution_count": 2,
     "metadata": {},
     "output_type": "execute_result"
    }
   ],
   "source": [
    "ser1= pd.Series([\"linah\" , \"malak\" , \"norah\"] , index = [1 ,2 ,3 ])\n",
    "ser1"
   ]
  },
  {
   "cell_type": "markdown",
   "id": "443e73f6",
   "metadata": {},
   "source": [
    "## Q2: Change indexes to 11, 12, 13."
   ]
  },
  {
   "cell_type": "code",
   "execution_count": 3,
   "id": "ae224dba",
   "metadata": {},
   "outputs": [
    {
     "data": {
      "text/plain": [
       "11    linah\n",
       "12    malak\n",
       "13    norah\n",
       "dtype: object"
      ]
     },
     "execution_count": 3,
     "metadata": {},
     "output_type": "execute_result"
    }
   ],
   "source": [
    "ser1.index = [11,12,13]\n",
    "ser1"
   ]
  },
  {
   "cell_type": "markdown",
   "id": "7f562099",
   "metadata": {},
   "source": [
    "## Q3: Retrieve First and second elements."
   ]
  },
  {
   "cell_type": "code",
   "execution_count": 4,
   "id": "bbe9dee3",
   "metadata": {},
   "outputs": [
    {
     "data": {
      "text/plain": [
       "11    linah\n",
       "12    malak\n",
       "dtype: object"
      ]
     },
     "execution_count": 4,
     "metadata": {},
     "output_type": "execute_result"
    }
   ],
   "source": [
    "ser1[:2]"
   ]
  },
  {
   "cell_type": "markdown",
   "id": "c771754d",
   "metadata": {},
   "source": [
    "## Q4: Add duplicate elements, then remove the duplication."
   ]
  },
  {
   "cell_type": "code",
   "execution_count": 5,
   "id": "cf5a1d1a",
   "metadata": {},
   "outputs": [
    {
     "name": "stdout",
     "output_type": "stream",
     "text": [
      "11    linah\n",
      "12    malak\n",
      "13    norah\n",
      "dtype: object\n",
      "14    linah\n",
      "15    malak\n",
      "dtype: object\n"
     ]
    },
    {
     "name": "stderr",
     "output_type": "stream",
     "text": [
      "C:\\Users\\linah\\AppData\\Local\\Temp\\ipykernel_9452\\1572825619.py:4: FutureWarning: The series.append method is deprecated and will be removed from pandas in a future version. Use pandas.concat instead.\n",
      "  ser1=ser1.append(ser2)\n"
     ]
    },
    {
     "data": {
      "text/plain": [
       "11    linah\n",
       "12    malak\n",
       "13    norah\n",
       "14    linah\n",
       "15    malak\n",
       "dtype: object"
      ]
     },
     "execution_count": 5,
     "metadata": {},
     "output_type": "execute_result"
    }
   ],
   "source": [
    "ser2= pd.Series([\"linah\" , \"malak\"] , index = [14 ,15])\n",
    "print(ser1)\n",
    "print(ser2)\n",
    "ser1=ser1.append(ser2) \n",
    "ser1"
   ]
  },
  {
   "cell_type": "code",
   "execution_count": 7,
   "id": "798fad6f",
   "metadata": {},
   "outputs": [
    {
     "data": {
      "text/plain": [
       "11    linah\n",
       "12    malak\n",
       "13    norah\n",
       "dtype: object"
      ]
     },
     "execution_count": 7,
     "metadata": {},
     "output_type": "execute_result"
    }
   ],
   "source": [
    " ser1.drop_duplicates()"
   ]
  },
  {
   "cell_type": "markdown",
   "id": "329164fe",
   "metadata": {},
   "source": [
    "## Q5: Create a Students DataFrame has three columns (ID, Name, GPA)."
   ]
  },
  {
   "cell_type": "code",
   "execution_count": 8,
   "id": "873e1727",
   "metadata": {},
   "outputs": [
    {
     "data": {
      "text/html": [
       "<div>\n",
       "<style scoped>\n",
       "    .dataframe tbody tr th:only-of-type {\n",
       "        vertical-align: middle;\n",
       "    }\n",
       "\n",
       "    .dataframe tbody tr th {\n",
       "        vertical-align: top;\n",
       "    }\n",
       "\n",
       "    .dataframe thead th {\n",
       "        text-align: right;\n",
       "    }\n",
       "</style>\n",
       "<table border=\"1\" class=\"dataframe\">\n",
       "  <thead>\n",
       "    <tr style=\"text-align: right;\">\n",
       "      <th></th>\n",
       "      <th>ID</th>\n",
       "      <th>Name</th>\n",
       "      <th>GPA</th>\n",
       "    </tr>\n",
       "  </thead>\n",
       "  <tbody>\n",
       "    <tr>\n",
       "      <th>0</th>\n",
       "      <td>1</td>\n",
       "      <td>linah</td>\n",
       "      <td>5</td>\n",
       "    </tr>\n",
       "    <tr>\n",
       "      <th>1</th>\n",
       "      <td>2</td>\n",
       "      <td>malak</td>\n",
       "      <td>5</td>\n",
       "    </tr>\n",
       "  </tbody>\n",
       "</table>\n",
       "</div>"
      ],
      "text/plain": [
       "   ID   Name  GPA\n",
       "0   1  linah    5\n",
       "1   2  malak    5"
      ]
     },
     "execution_count": 8,
     "metadata": {},
     "output_type": "execute_result"
    }
   ],
   "source": [
    "x={ \"ID\": [1 , 2] ,\n",
    "      \"Name\": [\"linah\" , \"malak\"],\n",
    "      \"GPA\": [5 , 5] }\n",
    "Students=pd.DataFrame(x, columns=[\"ID\" , \"Name\" , \"GPA\"])   \n",
    "Students"
   ]
  },
  {
   "cell_type": "markdown",
   "id": "2808d244",
   "metadata": {},
   "source": [
    "## Q6: Read educ_figdp_1_Data.csv file and print the head."
   ]
  },
  {
   "cell_type": "code",
   "execution_count": 9,
   "id": "3b0baf98",
   "metadata": {},
   "outputs": [
    {
     "data": {
      "text/html": [
       "<div>\n",
       "<style scoped>\n",
       "    .dataframe tbody tr th:only-of-type {\n",
       "        vertical-align: middle;\n",
       "    }\n",
       "\n",
       "    .dataframe tbody tr th {\n",
       "        vertical-align: top;\n",
       "    }\n",
       "\n",
       "    .dataframe thead th {\n",
       "        text-align: right;\n",
       "    }\n",
       "</style>\n",
       "<table border=\"1\" class=\"dataframe\">\n",
       "  <thead>\n",
       "    <tr style=\"text-align: right;\">\n",
       "      <th></th>\n",
       "      <th>TIME</th>\n",
       "      <th>GEO</th>\n",
       "      <th>INDIC_ED</th>\n",
       "      <th>Value</th>\n",
       "      <th>Flag and Footnotes</th>\n",
       "    </tr>\n",
       "  </thead>\n",
       "  <tbody>\n",
       "    <tr>\n",
       "      <th>0</th>\n",
       "      <td>2000</td>\n",
       "      <td>European Union (28 countries)</td>\n",
       "      <td>Total public expenditure on education as % of ...</td>\n",
       "      <td>:</td>\n",
       "      <td>NaN</td>\n",
       "    </tr>\n",
       "    <tr>\n",
       "      <th>1</th>\n",
       "      <td>2001</td>\n",
       "      <td>European Union (28 countries)</td>\n",
       "      <td>Total public expenditure on education as % of ...</td>\n",
       "      <td>:</td>\n",
       "      <td>NaN</td>\n",
       "    </tr>\n",
       "    <tr>\n",
       "      <th>2</th>\n",
       "      <td>2002</td>\n",
       "      <td>European Union (28 countries)</td>\n",
       "      <td>Total public expenditure on education as % of ...</td>\n",
       "      <td>5.00</td>\n",
       "      <td>e</td>\n",
       "    </tr>\n",
       "    <tr>\n",
       "      <th>3</th>\n",
       "      <td>2003</td>\n",
       "      <td>European Union (28 countries)</td>\n",
       "      <td>Total public expenditure on education as % of ...</td>\n",
       "      <td>5.03</td>\n",
       "      <td>e</td>\n",
       "    </tr>\n",
       "    <tr>\n",
       "      <th>4</th>\n",
       "      <td>2004</td>\n",
       "      <td>European Union (28 countries)</td>\n",
       "      <td>Total public expenditure on education as % of ...</td>\n",
       "      <td>4.95</td>\n",
       "      <td>e</td>\n",
       "    </tr>\n",
       "    <tr>\n",
       "      <th>...</th>\n",
       "      <td>...</td>\n",
       "      <td>...</td>\n",
       "      <td>...</td>\n",
       "      <td>...</td>\n",
       "      <td>...</td>\n",
       "    </tr>\n",
       "    <tr>\n",
       "      <th>379</th>\n",
       "      <td>2007</td>\n",
       "      <td>Finland</td>\n",
       "      <td>Total public expenditure on education as % of ...</td>\n",
       "      <td>5.90</td>\n",
       "      <td>NaN</td>\n",
       "    </tr>\n",
       "    <tr>\n",
       "      <th>380</th>\n",
       "      <td>2008</td>\n",
       "      <td>Finland</td>\n",
       "      <td>Total public expenditure on education as % of ...</td>\n",
       "      <td>6.10</td>\n",
       "      <td>NaN</td>\n",
       "    </tr>\n",
       "    <tr>\n",
       "      <th>381</th>\n",
       "      <td>2009</td>\n",
       "      <td>Finland</td>\n",
       "      <td>Total public expenditure on education as % of ...</td>\n",
       "      <td>6.81</td>\n",
       "      <td>NaN</td>\n",
       "    </tr>\n",
       "    <tr>\n",
       "      <th>382</th>\n",
       "      <td>2010</td>\n",
       "      <td>Finland</td>\n",
       "      <td>Total public expenditure on education as % of ...</td>\n",
       "      <td>6.85</td>\n",
       "      <td>NaN</td>\n",
       "    </tr>\n",
       "    <tr>\n",
       "      <th>383</th>\n",
       "      <td>2011</td>\n",
       "      <td>Finland</td>\n",
       "      <td>Total public expenditure on education as % of ...</td>\n",
       "      <td>6.76</td>\n",
       "      <td>NaN</td>\n",
       "    </tr>\n",
       "  </tbody>\n",
       "</table>\n",
       "<p>384 rows × 5 columns</p>\n",
       "</div>"
      ],
      "text/plain": [
       "     TIME                            GEO  \\\n",
       "0    2000  European Union (28 countries)   \n",
       "1    2001  European Union (28 countries)   \n",
       "2    2002  European Union (28 countries)   \n",
       "3    2003  European Union (28 countries)   \n",
       "4    2004  European Union (28 countries)   \n",
       "..    ...                            ...   \n",
       "379  2007                        Finland   \n",
       "380  2008                        Finland   \n",
       "381  2009                        Finland   \n",
       "382  2010                        Finland   \n",
       "383  2011                        Finland   \n",
       "\n",
       "                                              INDIC_ED Value  \\\n",
       "0    Total public expenditure on education as % of ...     :   \n",
       "1    Total public expenditure on education as % of ...     :   \n",
       "2    Total public expenditure on education as % of ...  5.00   \n",
       "3    Total public expenditure on education as % of ...  5.03   \n",
       "4    Total public expenditure on education as % of ...  4.95   \n",
       "..                                                 ...   ...   \n",
       "379  Total public expenditure on education as % of ...  5.90   \n",
       "380  Total public expenditure on education as % of ...  6.10   \n",
       "381  Total public expenditure on education as % of ...  6.81   \n",
       "382  Total public expenditure on education as % of ...  6.85   \n",
       "383  Total public expenditure on education as % of ...  6.76   \n",
       "\n",
       "    Flag and Footnotes  \n",
       "0                  NaN  \n",
       "1                  NaN  \n",
       "2                    e  \n",
       "3                    e  \n",
       "4                    e  \n",
       "..                 ...  \n",
       "379                NaN  \n",
       "380                NaN  \n",
       "381                NaN  \n",
       "382                NaN  \n",
       "383                NaN  \n",
       "\n",
       "[384 rows x 5 columns]"
      ]
     },
     "execution_count": 9,
     "metadata": {},
     "output_type": "execute_result"
    }
   ],
   "source": [
    "rf = pd.read_csv('educ_figdp_1_Data.csv')\n",
    "rf"
   ]
  },
  {
   "cell_type": "markdown",
   "id": "34574733",
   "metadata": {},
   "source": [
    "## Q7: Give an example shows the difference between loc and slicing?\n",
    "**Note:**\n",
    "- loc use the index labels as references.\n",
    "- slice use the position as references."
   ]
  },
  {
   "cell_type": "code",
   "execution_count": 10,
   "id": "0d5876f7",
   "metadata": {},
   "outputs": [
    {
     "data": {
      "text/html": [
       "<div>\n",
       "<style scoped>\n",
       "    .dataframe tbody tr th:only-of-type {\n",
       "        vertical-align: middle;\n",
       "    }\n",
       "\n",
       "    .dataframe tbody tr th {\n",
       "        vertical-align: top;\n",
       "    }\n",
       "\n",
       "    .dataframe thead th {\n",
       "        text-align: right;\n",
       "    }\n",
       "</style>\n",
       "<table border=\"1\" class=\"dataframe\">\n",
       "  <thead>\n",
       "    <tr style=\"text-align: right;\">\n",
       "      <th></th>\n",
       "      <th>TIME</th>\n",
       "      <th>GEO</th>\n",
       "    </tr>\n",
       "  </thead>\n",
       "  <tbody>\n",
       "    <tr>\n",
       "      <th>7</th>\n",
       "      <td>2007</td>\n",
       "      <td>European Union (28 countries)</td>\n",
       "    </tr>\n",
       "    <tr>\n",
       "      <th>8</th>\n",
       "      <td>2008</td>\n",
       "      <td>European Union (28 countries)</td>\n",
       "    </tr>\n",
       "    <tr>\n",
       "      <th>9</th>\n",
       "      <td>2009</td>\n",
       "      <td>European Union (28 countries)</td>\n",
       "    </tr>\n",
       "    <tr>\n",
       "      <th>10</th>\n",
       "      <td>2010</td>\n",
       "      <td>European Union (28 countries)</td>\n",
       "    </tr>\n",
       "    <tr>\n",
       "      <th>11</th>\n",
       "      <td>2011</td>\n",
       "      <td>European Union (28 countries)</td>\n",
       "    </tr>\n",
       "    <tr>\n",
       "      <th>12</th>\n",
       "      <td>2000</td>\n",
       "      <td>European Union (27 countries)</td>\n",
       "    </tr>\n",
       "    <tr>\n",
       "      <th>13</th>\n",
       "      <td>2001</td>\n",
       "      <td>European Union (27 countries)</td>\n",
       "    </tr>\n",
       "    <tr>\n",
       "      <th>14</th>\n",
       "      <td>2002</td>\n",
       "      <td>European Union (27 countries)</td>\n",
       "    </tr>\n",
       "    <tr>\n",
       "      <th>15</th>\n",
       "      <td>2003</td>\n",
       "      <td>European Union (27 countries)</td>\n",
       "    </tr>\n",
       "    <tr>\n",
       "      <th>16</th>\n",
       "      <td>2004</td>\n",
       "      <td>European Union (27 countries)</td>\n",
       "    </tr>\n",
       "    <tr>\n",
       "      <th>17</th>\n",
       "      <td>2005</td>\n",
       "      <td>European Union (27 countries)</td>\n",
       "    </tr>\n",
       "    <tr>\n",
       "      <th>18</th>\n",
       "      <td>2006</td>\n",
       "      <td>European Union (27 countries)</td>\n",
       "    </tr>\n",
       "    <tr>\n",
       "      <th>19</th>\n",
       "      <td>2007</td>\n",
       "      <td>European Union (27 countries)</td>\n",
       "    </tr>\n",
       "    <tr>\n",
       "      <th>20</th>\n",
       "      <td>2008</td>\n",
       "      <td>European Union (27 countries)</td>\n",
       "    </tr>\n",
       "    <tr>\n",
       "      <th>21</th>\n",
       "      <td>2009</td>\n",
       "      <td>European Union (27 countries)</td>\n",
       "    </tr>\n",
       "  </tbody>\n",
       "</table>\n",
       "</div>"
      ],
      "text/plain": [
       "    TIME                            GEO\n",
       "7   2007  European Union (28 countries)\n",
       "8   2008  European Union (28 countries)\n",
       "9   2009  European Union (28 countries)\n",
       "10  2010  European Union (28 countries)\n",
       "11  2011  European Union (28 countries)\n",
       "12  2000  European Union (27 countries)\n",
       "13  2001  European Union (27 countries)\n",
       "14  2002  European Union (27 countries)\n",
       "15  2003  European Union (27 countries)\n",
       "16  2004  European Union (27 countries)\n",
       "17  2005  European Union (27 countries)\n",
       "18  2006  European Union (27 countries)\n",
       "19  2007  European Union (27 countries)\n",
       "20  2008  European Union (27 countries)\n",
       "21  2009  European Union (27 countries)"
      ]
     },
     "execution_count": 10,
     "metadata": {},
     "output_type": "execute_result"
    }
   ],
   "source": [
    "rf.loc[7:21, ['TIME', 'GEO']]"
   ]
  },
  {
   "cell_type": "code",
   "execution_count": 11,
   "id": "0a2c353d",
   "metadata": {},
   "outputs": [
    {
     "data": {
      "text/html": [
       "<div>\n",
       "<style scoped>\n",
       "    .dataframe tbody tr th:only-of-type {\n",
       "        vertical-align: middle;\n",
       "    }\n",
       "\n",
       "    .dataframe tbody tr th {\n",
       "        vertical-align: top;\n",
       "    }\n",
       "\n",
       "    .dataframe thead th {\n",
       "        text-align: right;\n",
       "    }\n",
       "</style>\n",
       "<table border=\"1\" class=\"dataframe\">\n",
       "  <thead>\n",
       "    <tr style=\"text-align: right;\">\n",
       "      <th></th>\n",
       "      <th>TIME</th>\n",
       "      <th>GEO</th>\n",
       "      <th>INDIC_ED</th>\n",
       "      <th>Value</th>\n",
       "      <th>Flag and Footnotes</th>\n",
       "    </tr>\n",
       "  </thead>\n",
       "  <tbody>\n",
       "    <tr>\n",
       "      <th>7</th>\n",
       "      <td>2007</td>\n",
       "      <td>European Union (28 countries)</td>\n",
       "      <td>Total public expenditure on education as % of ...</td>\n",
       "      <td>4.92</td>\n",
       "      <td>e</td>\n",
       "    </tr>\n",
       "    <tr>\n",
       "      <th>8</th>\n",
       "      <td>2008</td>\n",
       "      <td>European Union (28 countries)</td>\n",
       "      <td>Total public expenditure on education as % of ...</td>\n",
       "      <td>5.04</td>\n",
       "      <td>e</td>\n",
       "    </tr>\n",
       "    <tr>\n",
       "      <th>9</th>\n",
       "      <td>2009</td>\n",
       "      <td>European Union (28 countries)</td>\n",
       "      <td>Total public expenditure on education as % of ...</td>\n",
       "      <td>5.38</td>\n",
       "      <td>e</td>\n",
       "    </tr>\n",
       "    <tr>\n",
       "      <th>10</th>\n",
       "      <td>2010</td>\n",
       "      <td>European Union (28 countries)</td>\n",
       "      <td>Total public expenditure on education as % of ...</td>\n",
       "      <td>5.41</td>\n",
       "      <td>e</td>\n",
       "    </tr>\n",
       "    <tr>\n",
       "      <th>11</th>\n",
       "      <td>2011</td>\n",
       "      <td>European Union (28 countries)</td>\n",
       "      <td>Total public expenditure on education as % of ...</td>\n",
       "      <td>5.25</td>\n",
       "      <td>e</td>\n",
       "    </tr>\n",
       "    <tr>\n",
       "      <th>12</th>\n",
       "      <td>2000</td>\n",
       "      <td>European Union (27 countries)</td>\n",
       "      <td>Total public expenditure on education as % of ...</td>\n",
       "      <td>4.91</td>\n",
       "      <td>s</td>\n",
       "    </tr>\n",
       "    <tr>\n",
       "      <th>13</th>\n",
       "      <td>2001</td>\n",
       "      <td>European Union (27 countries)</td>\n",
       "      <td>Total public expenditure on education as % of ...</td>\n",
       "      <td>4.99</td>\n",
       "      <td>s</td>\n",
       "    </tr>\n",
       "    <tr>\n",
       "      <th>14</th>\n",
       "      <td>2002</td>\n",
       "      <td>European Union (27 countries)</td>\n",
       "      <td>Total public expenditure on education as % of ...</td>\n",
       "      <td>5.00</td>\n",
       "      <td>e</td>\n",
       "    </tr>\n",
       "    <tr>\n",
       "      <th>15</th>\n",
       "      <td>2003</td>\n",
       "      <td>European Union (27 countries)</td>\n",
       "      <td>Total public expenditure on education as % of ...</td>\n",
       "      <td>5.04</td>\n",
       "      <td>e</td>\n",
       "    </tr>\n",
       "    <tr>\n",
       "      <th>16</th>\n",
       "      <td>2004</td>\n",
       "      <td>European Union (27 countries)</td>\n",
       "      <td>Total public expenditure on education as % of ...</td>\n",
       "      <td>4.95</td>\n",
       "      <td>e</td>\n",
       "    </tr>\n",
       "    <tr>\n",
       "      <th>17</th>\n",
       "      <td>2005</td>\n",
       "      <td>European Union (27 countries)</td>\n",
       "      <td>Total public expenditure on education as % of ...</td>\n",
       "      <td>4.92</td>\n",
       "      <td>e</td>\n",
       "    </tr>\n",
       "    <tr>\n",
       "      <th>18</th>\n",
       "      <td>2006</td>\n",
       "      <td>European Union (27 countries)</td>\n",
       "      <td>Total public expenditure on education as % of ...</td>\n",
       "      <td>4.91</td>\n",
       "      <td>e</td>\n",
       "    </tr>\n",
       "    <tr>\n",
       "      <th>19</th>\n",
       "      <td>2007</td>\n",
       "      <td>European Union (27 countries)</td>\n",
       "      <td>Total public expenditure on education as % of ...</td>\n",
       "      <td>4.93</td>\n",
       "      <td>e</td>\n",
       "    </tr>\n",
       "    <tr>\n",
       "      <th>20</th>\n",
       "      <td>2008</td>\n",
       "      <td>European Union (27 countries)</td>\n",
       "      <td>Total public expenditure on education as % of ...</td>\n",
       "      <td>5.04</td>\n",
       "      <td>e</td>\n",
       "    </tr>\n",
       "  </tbody>\n",
       "</table>\n",
       "</div>"
      ],
      "text/plain": [
       "    TIME                            GEO  \\\n",
       "7   2007  European Union (28 countries)   \n",
       "8   2008  European Union (28 countries)   \n",
       "9   2009  European Union (28 countries)   \n",
       "10  2010  European Union (28 countries)   \n",
       "11  2011  European Union (28 countries)   \n",
       "12  2000  European Union (27 countries)   \n",
       "13  2001  European Union (27 countries)   \n",
       "14  2002  European Union (27 countries)   \n",
       "15  2003  European Union (27 countries)   \n",
       "16  2004  European Union (27 countries)   \n",
       "17  2005  European Union (27 countries)   \n",
       "18  2006  European Union (27 countries)   \n",
       "19  2007  European Union (27 countries)   \n",
       "20  2008  European Union (27 countries)   \n",
       "\n",
       "                                             INDIC_ED Value Flag and Footnotes  \n",
       "7   Total public expenditure on education as % of ...  4.92                  e  \n",
       "8   Total public expenditure on education as % of ...  5.04                  e  \n",
       "9   Total public expenditure on education as % of ...  5.38                  e  \n",
       "10  Total public expenditure on education as % of ...  5.41                  e  \n",
       "11  Total public expenditure on education as % of ...  5.25                  e  \n",
       "12  Total public expenditure on education as % of ...  4.91                  s  \n",
       "13  Total public expenditure on education as % of ...  4.99                  s  \n",
       "14  Total public expenditure on education as % of ...  5.00                  e  \n",
       "15  Total public expenditure on education as % of ...  5.04                  e  \n",
       "16  Total public expenditure on education as % of ...  4.95                  e  \n",
       "17  Total public expenditure on education as % of ...  4.92                  e  \n",
       "18  Total public expenditure on education as % of ...  4.91                  e  \n",
       "19  Total public expenditure on education as % of ...  4.93                  e  \n",
       "20  Total public expenditure on education as % of ...  5.04                  e  "
      ]
     },
     "execution_count": 11,
     "metadata": {},
     "output_type": "execute_result"
    }
   ],
   "source": [
    "rf[7:21]"
   ]
  },
  {
   "cell_type": "code",
   "execution_count": null,
   "id": "ac7d7c4e",
   "metadata": {},
   "outputs": [],
   "source": []
  }
 ],
 "metadata": {
  "kernelspec": {
   "display_name": "Python 3 (ipykernel)",
   "language": "python",
   "name": "python3"
  },
  "language_info": {
   "codemirror_mode": {
    "name": "ipython",
    "version": 3
   },
   "file_extension": ".py",
   "mimetype": "text/x-python",
   "name": "python",
   "nbconvert_exporter": "python",
   "pygments_lexer": "ipython3",
   "version": "3.11.3"
  }
 },
 "nbformat": 4,
 "nbformat_minor": 5
}
